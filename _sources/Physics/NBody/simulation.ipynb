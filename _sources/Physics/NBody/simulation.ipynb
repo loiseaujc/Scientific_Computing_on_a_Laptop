{
 "cells": [
  {
   "cell_type": "markdown",
   "id": "9dac2983",
   "metadata": {},
   "source": [
    "# Full code for an N-Body simulation\n",
    "\n",
    "We now have every thing we need to implement a fairly efficient N-Body solver.\n",
    "For the sake of simplicity, the equations of motions will be integrated forward in time using the `solve_ivp` function from `scipy.integrate`.\n",
    "It gives access to fairly standard yet efficient time-integrators (e.g. high-order Runge-Kutta schemes).\n",
    "Note that, for the problem we consider, energy-preserving schemes (e.g. symplectic time-integrators) might be better.\n",
    "It however requires other packages that we won't cover herein.\n",
    "If you want to know more, you can check for instance [diffeqpy](https://github.com/SciML/diffeqpy), a Python wrapper for the incredible Julia package [DifferentialEquations.jl](https://diffeq.sciml.ai/dev) providing such symplectic integrators.\n",
    "\n",
    "**<center> N-Body simulator using only NumPy and SciPy</center>**"
   ]
  },
  {
   "cell_type": "code",
   "execution_count": 1,
   "id": "c9cd9d5a",
   "metadata": {},
   "outputs": [],
   "source": [
    "# --> Import needed packages/functions.\n",
    "import numpy as np\n",
    "from scipy.integrate import solve_ivp\n",
    "\n",
    "def pairwise_interactions(X):\n",
    "    \"\"\"Computation of the net forces resulting from pairwise interactions.\"\"\"\n",
    "    # --> Number of particles.\n",
    "    n = len(X)\n",
    "    \n",
    "    # --> Gram matrix.\n",
    "    d2 = -2 * X @ X.T\n",
    "    \n",
    "    # --> Squared pairwise distances.\n",
    "    diag = -0.5 * np.einsum('ii->i', d2)\n",
    "    d2 += diag + diag[:, None]\n",
    "    \n",
    "    # --> Prevent division by zero.\n",
    "    np.einsum('ii->i', d2)[...] = 1\n",
    "    \n",
    "    # --> Net forces.\n",
    "    F = np.nansum( (X[:, None, :] - X) * d2[..., None]**-1.5, axis=0)\n",
    "    \n",
    "    return F\n",
    "\n",
    "def nbody(t, u, ndim):\n",
    "    \"\"\"Right-hand side function for the N-Body simulation.\"\"\"\n",
    "    # --> Number of particles.\n",
    "    n = len(u) // (2*ndim)\n",
    "    \n",
    "    # --> Initialize output vector.\n",
    "    du = np.zeros_like(u)\n",
    "    \n",
    "    # --> Extract the positions and velocities.\n",
    "    x, dx = u[:ndim*n], u[ndim*n:]\n",
    "    \n",
    "    # --> Compute the acceleration.\n",
    "    ddx = pairwise_interactions(x.reshape(n, ndim))\n",
    "\n",
    "    # --> Return the time-derivatives for the ODE solver.\n",
    "    du[:ndim*n] = dx\n",
    "    du[ndim*n:] = ddx.ravel()\n",
    "       \n",
    "    return du\n",
    "    \n",
    "def simulation(x, dx, t):\n",
    "    \n",
    "    # --> Number of dimensions/Number of particles.\n",
    "    assert x.shape == dx.shape\n",
    "    n, ndim = x.shape\n",
    "\n",
    "    # --> Initial condition for the simulation.\n",
    "    u = np.r_[x.flatten(), dx.flatten()]\n",
    "    \n",
    "    # --> Parameters for the ODE solver.\n",
    "    tspan = (t.min(), t.max())\n",
    "    t_eval = t\n",
    "    method = \"DOP853\"\n",
    "    atol = rtol = 1e-13\n",
    "    \n",
    "    # --> Run the simulation.\n",
    "    output = solve_ivp(\n",
    "        lambda t, u : nbody(t, u, ndim),\n",
    "        tspan,\n",
    "        u,\n",
    "        t_eval=t_eval,\n",
    "        method=method,\n",
    "        atol=atol,\n",
    "        rtol=rtol\n",
    "    )\n",
    "    \n",
    "    # --> Extract the positions and velocities of the n particles.\n",
    "    x = output[\"y\"][:n*ndim].reshape((n, ndim, -1))\n",
    "    dx = output[\"y\"][n*ndim:].reshape((n, ndim, -1))\n",
    "\n",
    "    return x, dx"
   ]
  },
  {
   "cell_type": "markdown",
   "id": "997ee39c",
   "metadata": {},
   "source": [
    "The function `simulation` takes as input:\n",
    "- `x` : Initial positions of the particles as a numpy array of size `n` by `ndim` with `n` the number of particles and `ndim` the dimension of the space considered.\n",
    "- `dx` : Initial velocities of the particles as a numpy array of size `n` by `ndim`.\n",
    "- `t` : The time points at which we'd like to save the simulation (typically a `np.linspace`).\n",
    "\n",
    "It returns the positions and velocities of the particles over time as numpy arrays of size `(n, ndim, len(t))`.\n",
    "\n",
    "The animation below shows the results of simulation a 4-Body problem with the following initial conditions\n",
    "\n",
    "$$\n",
    "\\mathbf{X}\n",
    "=\n",
    "\\begin{bmatrix}\n",
    "    0 & 0 \\\\\n",
    "    0 & 1 \\\\\n",
    "    1 & 1 \\\\\n",
    "    1 & 0\n",
    "\\end{bmatrix}\n",
    "\\quad\n",
    "\\dot{\\mathbf{X}}\n",
    "=\n",
    "\\begin{bmatrix}\n",
    "    1 & 0 \\\\\n",
    "    0 & -1 \\\\\n",
    "    -1 & 0 \\\\\n",
    "    0 & 1\n",
    "\\end{bmatrix}.\n",
    "$$\n",
    "\n",
    "The particles thus initially form a unit square and their initial velocities are arranged such that the evolution is time-periodic."
   ]
  },
  {
   "cell_type": "code",
   "execution_count": 2,
   "id": "2d8343e8",
   "metadata": {
    "tags": [
     "remove-cell"
    ]
   },
   "outputs": [],
   "source": [
    "n, ndim = 4, 2\n",
    "\n",
    "x = np.array([[0, 0], [0, 1], [1, 0], [1, 1]])\n",
    "dx = np.array([[1, 0], [0, -1], [0, 1], [-1, 0]])\n",
    "\n",
    "t = np.linspace(0, 3.0, 1024)\n",
    "\n",
    "X, dX = simulation(x, dx, t)"
   ]
  },
  {
   "cell_type": "code",
   "execution_count": 3,
   "id": "93575a90",
   "metadata": {
    "tags": [
     "remove-cell"
    ]
   },
   "outputs": [
    {
     "data": {
      "image/png": "[encoded data removed]",
      "text/plain": [
       "<Figure size 360x360 with 1 Axes>"
      ]
     },
     "metadata": {
      "filenames": {
       "image/png": "/home/loiseau/GitHub/Scientific_Computing_on_a_Laptop/book/_build/jupyter_execute/Physics/NBody/simulation_4_0.png"
      },
      "needs_background": "light"
     },
     "output_type": "display_data"
    }
   ],
   "source": [
    "import matplotlib.pyplot as plt\n",
    "from matplotlib.animation import FuncAnimation\n",
    "from IPython.display import HTML\n",
    "\n",
    "fig, ax = plt.subplots(1, 1, figsize=(5, 5))\n",
    "\n",
    "for x in X:\n",
    "    ax.plot(x[0], x[1], color=\"lightgray\", lw=0.5)\n",
    "\n",
    "ln, = ax.plot([], [], \"o\")\n",
    "    \n",
    "ax.axis(False);\n",
    "ax.set_aspect(\"equal\")\n",
    "\n",
    "def update(i):\n",
    "    ln.set_data(X[:, 0, i], X[:, 1, i])\n",
    "    return ln\n",
    "\n",
    "anim = FuncAnimation(fig, update, frames=len(t), interval=10);"
   ]
  },
  {
   "cell_type": "code",
   "execution_count": 4,
   "id": "345388bf",
   "metadata": {
    "tags": [
     "remove-input"
    ]
   },
   "outputs": [
    {
     "ename": "RuntimeError",
     "evalue": "Requested MovieWriter (ffmpeg) not available",
     "output_type": "error",
     "traceback": [
      "\u001b[0;31m---------------------------------------------------------------------------\u001b[0m",
      "\u001b[0;31mRuntimeError\u001b[0m                              Traceback (most recent call last)",
      "Input \u001b[0;32mIn [4]\u001b[0m, in \u001b[0;36m<cell line: 1>\u001b[0;34m()\u001b[0m\n\u001b[0;32m----> 1\u001b[0m HTML(\u001b[43manim\u001b[49m\u001b[38;5;241;43m.\u001b[39;49m\u001b[43mto_html5_video\u001b[49m\u001b[43m(\u001b[49m\u001b[43m)\u001b[49m)\n",
      "File \u001b[0;32m~/anaconda3/lib/python3.9/site-packages/matplotlib/animation.py:1266\u001b[0m, in \u001b[0;36mAnimation.to_html5_video\u001b[0;34m(self, embed_limit)\u001b[0m\n\u001b[1;32m   1263\u001b[0m path \u001b[38;5;241m=\u001b[39m Path(tmpdir, \u001b[38;5;124m\"\u001b[39m\u001b[38;5;124mtemp.m4v\u001b[39m\u001b[38;5;124m\"\u001b[39m)\n\u001b[1;32m   1264\u001b[0m \u001b[38;5;66;03m# We create a writer manually so that we can get the\u001b[39;00m\n\u001b[1;32m   1265\u001b[0m \u001b[38;5;66;03m# appropriate size for the tag\u001b[39;00m\n\u001b[0;32m-> 1266\u001b[0m Writer \u001b[38;5;241m=\u001b[39m \u001b[43mwriters\u001b[49m\u001b[43m[\u001b[49m\u001b[43mmpl\u001b[49m\u001b[38;5;241;43m.\u001b[39;49m\u001b[43mrcParams\u001b[49m\u001b[43m[\u001b[49m\u001b[38;5;124;43m'\u001b[39;49m\u001b[38;5;124;43manimation.writer\u001b[39;49m\u001b[38;5;124;43m'\u001b[39;49m\u001b[43m]\u001b[49m\u001b[43m]\u001b[49m\n\u001b[1;32m   1267\u001b[0m writer \u001b[38;5;241m=\u001b[39m Writer(codec\u001b[38;5;241m=\u001b[39m\u001b[38;5;124m'\u001b[39m\u001b[38;5;124mh264\u001b[39m\u001b[38;5;124m'\u001b[39m,\n\u001b[1;32m   1268\u001b[0m                 bitrate\u001b[38;5;241m=\u001b[39mmpl\u001b[38;5;241m.\u001b[39mrcParams[\u001b[38;5;124m'\u001b[39m\u001b[38;5;124manimation.bitrate\u001b[39m\u001b[38;5;124m'\u001b[39m],\n\u001b[1;32m   1269\u001b[0m                 fps\u001b[38;5;241m=\u001b[39m\u001b[38;5;241m1000.\u001b[39m \u001b[38;5;241m/\u001b[39m \u001b[38;5;28mself\u001b[39m\u001b[38;5;241m.\u001b[39m_interval)\n\u001b[1;32m   1270\u001b[0m \u001b[38;5;28mself\u001b[39m\u001b[38;5;241m.\u001b[39msave(\u001b[38;5;28mstr\u001b[39m(path), writer\u001b[38;5;241m=\u001b[39mwriter)\n",
      "File \u001b[0;32m~/anaconda3/lib/python3.9/site-packages/matplotlib/animation.py:151\u001b[0m, in \u001b[0;36mMovieWriterRegistry.__getitem__\u001b[0;34m(self, name)\u001b[0m\n\u001b[1;32m    149\u001b[0m \u001b[38;5;28;01mif\u001b[39;00m \u001b[38;5;28mself\u001b[39m\u001b[38;5;241m.\u001b[39mis_available(name):\n\u001b[1;32m    150\u001b[0m     \u001b[38;5;28;01mreturn\u001b[39;00m \u001b[38;5;28mself\u001b[39m\u001b[38;5;241m.\u001b[39m_registered[name]\n\u001b[0;32m--> 151\u001b[0m \u001b[38;5;28;01mraise\u001b[39;00m \u001b[38;5;167;01mRuntimeError\u001b[39;00m(\u001b[38;5;124mf\u001b[39m\u001b[38;5;124m\"\u001b[39m\u001b[38;5;124mRequested MovieWriter (\u001b[39m\u001b[38;5;132;01m{\u001b[39;00mname\u001b[38;5;132;01m}\u001b[39;00m\u001b[38;5;124m) not available\u001b[39m\u001b[38;5;124m\"\u001b[39m)\n",
      "\u001b[0;31mRuntimeError\u001b[0m: Requested MovieWriter (ffmpeg) not available"
     ]
    }
   ],
   "source": [
    "HTML(anim.to_html5_video())"
   ]
  },
  {
   "cell_type": "markdown",
   "id": "eefc0b49",
   "metadata": {},
   "source": [
    "The code is now yours to play with!\n",
    "You can consider any initial arrangement of particles you'd like.\n",
    "Note however that, since we implemented a **particle-particle method**, the computation rapidly gets extremely expensive as you increase the number of particles.\n",
    "You can try to see how many you can simulate in a reasonnable time on your own laptop.\n",
    "\n",
    "## Project ideas to go further\n",
    "\n",
    "The code we've implemented is fairly simple and can be used as the skeleton for more advanced simulations.\n",
    "Whether you are a student keen on taking challenges or a teacher looking for project ideas for your classes, here is a non-exhaustive list of how you build upon this code :\n",
    "- At the begining, we've made the assumptions that all particles had unit mass and we set the gravitational constant to $G = 1$.\n",
    "This was made out of necessity to focus on the core of the solver.\n",
    "You can however easily change this and add support for particles with different masses and set $G$ to whatever value you like in your numerical universe.\n",
    "- The gravitational potential becomes singular as the distance $r$ between two particles goes to zero.\n",
    "This forces the time-stepper to take increasingly smaller time steps and massively increases the computational time.\n",
    "If two particles happen to collide, it might even cause the whole simulation to blow up.\n",
    "Different techniques have been proposed in the literature to remedy this problem.\n",
    "- N-Body simulations do not have to be restricted to astrophysical situations.\n",
    "Other potentials can be considered.\n",
    "A good project would be to implement a similar code for the [Lennard-Jones potential](https://en.wikipedia.org/wiki/Lennard-Jones_potential).\n",
    "It is considered an archetype model for simple yet realistic intermolecular interactions.\n",
    "This would be a good starting project for students interested in [Molecular Dynamics](https://en.wikipedia.org/wiki/Molecular_dynamics).\n",
    "\n",
    "For more advanced project ideas, you can also look into other methods than the particle-particle one.\n",
    "These other methods are typically used when you consider an enormous number of particles for which the particle-particle method yields intractable computations."
   ]
  }
 ],
 "metadata": {
  "jupytext": {
   "formats": "md:myst",
   "text_representation": {
    "extension": ".md",
    "format_name": "myst",
    "format_version": 0.13,
    "jupytext_version": "1.10.3"
   }
  },
  "kernelspec": {
   "display_name": "Python 3 (ipykernel)",
   "language": "python",
   "name": "python3"
  },
  "language_info": {
   "codemirror_mode": {
    "name": "ipython",
    "version": 3
   },
   "file_extension": ".py",
   "mimetype": "text/x-python",
   "name": "python",
   "nbconvert_exporter": "python",
   "pygments_lexer": "ipython3",
   "version": "3.9.12"
  },
  "source_map": [
   13,
   26,
   102,
   135,
   149,
   173,
   178
  ]
 },
 "nbformat": 4,
 "nbformat_minor": 5
}