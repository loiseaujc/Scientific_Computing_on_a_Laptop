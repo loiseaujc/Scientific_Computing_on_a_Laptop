{
 "cells": [
  {
   "cell_type": "code",
   "execution_count": 1,
   "id": "d02c7c82",
   "metadata": {
    "tags": [
     "remove-cell"
    ]
   },
   "outputs": [],
   "source": [
    "import numpy as np"
   ]
  },
  {
   "cell_type": "markdown",
   "id": "b04bd523",
   "metadata": {},
   "source": [
    "# Vectorized implementation\n",
    "\n",
    "In the previous section, we've illustrated how one could go from a simple implementation taking close to 2 seconds to compute the acceleration of 500 particles down to less than 100 milliseconds using **Numba** and its *just-in-time* compiling capabilities.\n",
    "Doing so did not require any modification of the original code except for the decorator `@numba.jit()`.\n",
    "Even though this 20x-25x speed-up might be sufficient, we can do even better.\n",
    "We'll however need to take a step back from the code and reframe the problem slightly differently.\n",
    "\n",
    "## Computing the pairwise distance of $n$ points in $\\mathbb{R}^m$\n",
    "\n",
    "The most intensive part of our simulation is the computation of the pairwise distance (in the $\\ell_2$ norm) between the i<sup>th</sup> and j<sup>th</sup> particles.\n",
    "Given the positions vectors $\\mathbf{x}_i$ and $\\mathbf{x}_j$, this (squared) distance can be expressed as\n",
    "\n",
    "$$\n",
    "\\| \\mathbf{x}_i - \\mathbf{x}_j \\|^2 = \\left( \\mathbf{x}_i - \\mathbf{x}_j \\right)^T \\left( \\mathbf{x}_i - \\mathbf{x}_j \\right).\n",
    "$$\n",
    "\n",
    "The set of all pairwise distances forms the (squared) distance matrix $\\mathbf{D}$.\n",
    "Its $ij$ entry is given by\n",
    "\n",
    "$$\n",
    "D_{ij} = \\| \\mathbf{x}_i - \\mathbf{x}_j \\|^2.\n",
    "$$\n",
    "\n",
    "The name of the game is thus: **How to compute this distance matrix efficiently?**\n",
    "\n",
    "The answer to this question requires only a tiny bit of linear algebra.\n",
    "Developping the expression for $D_{ij}$ yields\n",
    "\n",
    "$$\n",
    "\\begin{aligned}\n",
    "    D_{ij} & = \\| \\mathbf{x}_i - \\mathbf{x}_j \\|^2 \\\\\n",
    "    & = \\left( \\mathbf{x}_i - \\mathbf{x}_j \\right)^T \\left( \\mathbf{x}_i - \\mathbf{x}_j \\right) \\\\\n",
    "    & = \\mathbf{x}_i^T \\mathbf{x}_i - 2 \\mathbf{x}_i^T \\mathbf{x}_j + \\mathbf{x}_j^T \\mathbf{x}_j.\n",
    "\\end{aligned}\n",
    "$$\n",
    "\n",
    "The last expression can be rewritten as\n",
    "\n",
    "$$\n",
    "D_{ij} = \\| \\mathbf{x}_i \\|^2 - 2 \\mathbf{x}_i^T \\mathbf{x}_j + \\| \\mathbf{x}_j \\|^2.\n",
    "$$\n",
    "\n",
    "In matrix notation, $\\mathbf{D}$ can thus be expressed as\n",
    "\n",
    "$$\n",
    "\\mathbf{D} = \\textrm{diag}(\\mathbf{G})^T \\mathbf{1}_n - 2 \\mathbf{G} + \\mathbf{1}_n^T \\textrm{diag}(\\mathbf{G})\n",
    "$$\n",
    "\n",
    "where $\\mathbf{G}$ is the $n \\times n$ Gram matrix given by $\\mathbf{G} = \\mathbf{XX}^T$ and $\\mathbf{1}_n$ is an $n \\times 1$ column vector of ones.\n",
    "Computing the distance matrix like this does not require `for` loops and involves only matrix-vector or matrix-matrix products.\n",
    "Under the hood, NumPy relies on [BLAS](https://en.wikipedia.org/wiki/Basic_Linear_Algebra_Subprograms) to perform such products.\n",
    "This will be incredibly faster than using `for` loops in Python.\n",
    "\n",
    "The last bit we need to compute is the distance vector $\\Delta \\mathbf{x} = \\mathbf{x}_j - \\mathbf{x}_i$.\n",
    "To avoid using slow `for` loops, we can rely on some NumPy mechanics, namely **broadcasting**, to compute all the pairwise distance vectors in one go.\n",
    "For more details about broadcasting, please refer to the dedicated [NumPy documentation](https://numpy.org/doc/stable/user/basics.broadcasting.html).\n",
    "\n",
    "## Back to the code\n",
    "\n",
    "We now have everything we need to write an incredibly efficient `pairwise_interactions` function.\n",
    "The corresponding code is shown below.\n",
    "\n",
    "**<center>Algorithm 2: Vectorized + broadcasting implementation</center>**"
   ]
  },
  {
   "cell_type": "code",
   "execution_count": 2,
   "id": "bf275752",
   "metadata": {},
   "outputs": [],
   "source": [
    "def pairwise_interactions(X):\n",
    "    # --> Number of particles.\n",
    "    n = len(X)\n",
    "    \n",
    "    # --> Gram matrix.\n",
    "    d2 = -2 * X @ X.T\n",
    "    \n",
    "    # --> Squared pairwise distances.\n",
    "    diag = -0.5 * np.einsum('ii->i', d2)\n",
    "    d2 += diag + diag[:, None]\n",
    "    \n",
    "    # --> Prevent division by 0.\n",
    "    np.einsum('ii->i', d2)[...] = 1\n",
    "    \n",
    "    # --> Net forces.\n",
    "    F = np.nansum( (X[:, None, :] - X) * d2[..., None]**-1.5, axis=0)\n",
    "    \n",
    "    return F"
   ]
  },
  {
   "cell_type": "markdown",
   "id": "be751c2f",
   "metadata": {},
   "source": [
    "The calls to `np.einseum('ii->i', d2)` creates a **view** of the diagonal of the matrix `d2`.\n",
    "This is more efficient memory-wise than actually extracting the diagonal with `np.diagonal`.\n",
    "Let's now benchmark this implementation using again 500 particles randomly located in $\\mathbb{R}^3$."
   ]
  },
  {
   "cell_type": "code",
   "execution_count": 3,
   "id": "e81c4c7b",
   "metadata": {
    "tags": [
     "hide-input"
    ]
   },
   "outputs": [],
   "source": [
    "X = np.random.randn(500, 3)"
   ]
  },
  {
   "cell_type": "code",
   "execution_count": 4,
   "id": "840c825d",
   "metadata": {},
   "outputs": [
    {
     "name": "stdout",
     "output_type": "stream",
     "text": [
      "8.51 ms ± 215 µs per loop (mean ± std. dev. of 7 runs, 100 loops each)\n"
     ]
    }
   ],
   "source": [
    "%%timeit\n",
    "pairwise_interactions(X)"
   ]
  },
  {
   "cell_type": "markdown",
   "id": "810f901c",
   "metadata": {},
   "source": [
    "It now takes only approximately 15 to 20 milliseconds!\n",
    "This is another 3x or 4x speed-up compared to the `numba` implementation and a 80x to 100x speed-up compared to our original implementation.\n",
    "This piece of code can moreover compute the pairwise distance in an arbitrary number of dimensions, as long as you use the Eucliden $\\ell_2$ norm to measure distances.\n",
    "These increased performances however come with a piece of code which might be harder to decipher, particularly if you don't known the linear algebra trick or what broadcasting is.\n",
    "This will often be the case.\n",
    "Improving the performances of a piece of code most often relies on mathematical tricks or programming mechanics which might obscure what the code is doing.\n",
    "This is one of the main reasons why you need to document your code, particularly if you intend to share it with others!"
   ]
  }
 ],
 "metadata": {
  "jupytext": {
   "formats": "md:myst",
   "text_representation": {
    "extension": ".md",
    "format_name": "myst",
    "format_version": 0.13,
    "jupytext_version": "1.10.3"
   }
  },
  "kernelspec": {
   "display_name": "Python 3 (ipykernel)",
   "language": "python",
   "name": "python3"
  },
  "language_info": {
   "codemirror_mode": {
    "name": "ipython",
    "version": 3
   },
   "file_extension": ".py",
   "mimetype": "text/x-python",
   "name": "python",
   "nbconvert_exporter": "python",
   "pygments_lexer": "ipython3",
   "version": "3.9.13"
  },
  "source_map": [
   15,
   19,
   85,
   104,
   110,
   115,
   118
  ]
 },
 "nbformat": 4,
 "nbformat_minor": 5
}