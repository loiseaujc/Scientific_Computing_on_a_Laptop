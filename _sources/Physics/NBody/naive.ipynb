{
 "cells": [
  {
   "cell_type": "code",
   "execution_count": 1,
   "id": "583df56f",
   "metadata": {
    "tags": [
     "remove-cell"
    ]
   },
   "outputs": [],
   "source": [
    "import numpy as np"
   ]
  },
  {
   "cell_type": "markdown",
   "id": "a164eea8",
   "metadata": {},
   "source": [
    "# Implementation based on nested `for` loops\n",
    "\n",
    "Let us start with the implementation students are most likely to come up with.\n",
    "As usual, this implementation often involves nested `for` loops and possibly redundant computations.\n",
    "We'll assume that `numpy` has already been imported as `np`.\n",
    "Such a naïve implementation is shown below.\n",
    "\n",
    "**<center>Algorithm 1a: Nested `for` loops</center>**"
   ]
  },
  {
   "cell_type": "code",
   "execution_count": 2,
   "id": "02906228",
   "metadata": {},
   "outputs": [],
   "source": [
    "def pairwise_interactions(X):\n",
    "\n",
    "    # --> Number of particles.\n",
    "    n = len(X)\n",
    "    \n",
    "    # --> Initialize the force array.\n",
    "    F = np.zeros_like(X)\n",
    "    \n",
    "    # --> Loop through all the particles.\n",
    "    for i in range(n):\n",
    "        for j in range(n):\n",
    "            \n",
    "            if i == j:\n",
    "                continue\n",
    "                \n",
    "            # --> Compute the difference vector.\n",
    "            Δx = X[j] - X[i]\n",
    "            \n",
    "            # --> Add the ij contribution to the net force.\n",
    "            F[i] += Δx / np.linalg.norm(Δx)**3\n",
    "            \n",
    "    return F"
   ]
  },
  {
   "cell_type": "markdown",
   "id": "2209c99b",
   "metadata": {},
   "source": [
    "The code is self-explanatory.\n",
    "It loops through each particle.\n",
    "For each particle, it then compute the signed distance vector with respect to all the other particles and add the resulting gravitational attraction to the net force experienced by the i<sup>th</sup> particle.\n",
    "Pretty simple.\n",
    "Let us now benchmark this implementation.\n",
    "For that purpose, we'll consider 500 particles with random initial positions and velocities in $\\mathbb{R}^3$.\n",
    "The `%%timeit` magic is a useful command to know for that."
   ]
  },
  {
   "cell_type": "code",
   "execution_count": 3,
   "id": "ba9a54bc",
   "metadata": {
    "tags": [
     "hide-input"
    ]
   },
   "outputs": [],
   "source": [
    "# --> Generate particles with random initial positions.\n",
    "n = 500\n",
    "X = np.random.randn(n, 3)"
   ]
  },
  {
   "cell_type": "code",
   "execution_count": 4,
   "id": "ae955134",
   "metadata": {},
   "outputs": [
    {
     "name": "stdout",
     "output_type": "stream",
     "text": [
      "1.17 s ± 10.9 ms per loop (mean ± std. dev. of 7 runs, 1 loop each)\n"
     ]
    }
   ],
   "source": [
    "%%timeit\n",
    "pairwise_interactions(X)"
   ]
  },
  {
   "cell_type": "markdown",
   "id": "0c681b40",
   "metadata": {},
   "source": [
    "On my laptop, this computation takes a bit more than 2 seconds.\n",
    "An actual simulation may requires thousands if not millions of time steps, with each time step necessitating the evaluation of these pairwise interactions.\n",
    "Despite its simplicity, there is no way than one could simulate even a moderately large number of particles in a reasonnable time using this code snippet.\n",
    "\n",
    "Even though the code is slow, it can run twice as fast by leveraging existing symmetries in the equations.\n",
    "You can easily convince yourself that\n",
    "\n",
    "$$\n",
    "\\mathbf{F}_{ij} = -\\mathbf{F}_{ji}.\n",
    "$$\n",
    "\n",
    "Hence, the inner loop in **Algorithm 1a** does not need to run from `j=0` to `i=n-1` but only from `j=i+1` to `j=n-1`.\n",
    "As soon as the contribution $\\mathbf{F}_{ij}$ has been computed, $\\mathbf{F}_{ji}$ comes for free.\n",
    "The corresponding code is shown below.\n",
    "\n",
    "\n",
    "**<center>Algorithm 1b: Revisiting nested `for` loops</center>**"
   ]
  },
  {
   "cell_type": "code",
   "execution_count": 5,
   "id": "ded2127a",
   "metadata": {},
   "outputs": [],
   "source": [
    "def pairwise_interactions(X):\n",
    "\n",
    "    # --> Number of particles.\n",
    "    n = len(X)\n",
    "    \n",
    "    # --> Initialize the force array.\n",
    "    F = np.zeros_like(X)\n",
    "    \n",
    "    # --> Loop through all the particles.\n",
    "    for i in range(n):\n",
    "        for j in range(i+1, n):\n",
    "                \n",
    "            # --> Compute the difference vector.\n",
    "            Δx = X[j] - X[i]\n",
    "            \n",
    "            # --> Add the ij contribution to the net force.\n",
    "            F[i] += Δx / np.linalg.norm(Δx)**3\n",
    "            \n",
    "            # --> Add the ji contribution to the net force.\n",
    "            F[j] -= F[i]\n",
    "            \n",
    "    return F"
   ]
  },
  {
   "cell_type": "markdown",
   "id": "c04a1e05",
   "metadata": {},
   "source": [
    "Let us once again benchmark this implementation using the same 500 particles."
   ]
  },
  {
   "cell_type": "code",
   "execution_count": 6,
   "id": "2a793a32",
   "metadata": {},
   "outputs": [
    {
     "name": "stdout",
     "output_type": "stream",
     "text": [
      "690 ms ± 26.8 ms per loop (mean ± std. dev. of 7 runs, 1 loop each)\n"
     ]
    }
   ],
   "source": [
    "%%timeit\n",
    "pairwise_interactions(X)"
   ]
  },
  {
   "cell_type": "markdown",
   "id": "506c3f4e",
   "metadata": {},
   "source": [
    "As expected, the computational time is roughly divided by 2.\n",
    "Yet, the code is still extremely slow and cannot be realistically used in a production run.\n",
    "The primary reason for this slowness is the use of `for` loops.\n",
    "Such loops are incredibly slow in Python compared to other compiled languages as Fortran or C.\n",
    "There are technical reasons for why `for` loops are slow in Python but discussing these would bring us down the rabbit hole.\n",
    "For now, you only need to remember that, when its comes to scientific computing, `for` loops in Python need to be avoided like the plague.\n",
    "\n",
    "In many cases, `for` loops can be avoided by taking a step back from code and reframing the problem slightly differently.\n",
    "This will be illustrated in the next section where we'll use some neat `numpy` tricks such as **vectorization** and **broadcasting**.\n",
    "It may happen however that getting rid of `for` loops is not possible.\n",
    "It could also severely reduce the code readability or simply not be obvious at all.\n",
    "\n",
    "\n",
    "<img src=\"https://numba.pydata.org/_static/numba-blue-horizontal-rgb.svg\" width=\"192px\" align=\"left\" margin=\"16px\" />\n",
    "\n",
    "In these cases, Python's scientific computing ecosystem has a few extremely useful packages.\n",
    "One of them is [**Numba**](https://numba.pydata.org/), an open source *just-in-time* compiler that can translate a subset of Python or NumPy code into fast machine code.\n",
    "From Numba's website\n",
    "\n",
    "> Numba translates Python functions to optimized machine code at runtime using the industry-standard [LLVM](https://llvm.org/) compiler library. Numba-compiled numerical algorithms in Python can approach the speeds of C or Fortran.\n",
    "\n",
    "What Numba does basically is to take your naïve Python implementation and generates on-the-fly specialized machine code for different array data types and layouts to optimize performance.\n",
    "\n",
    "```{admonition} Be careful though...\n",
    ":class: danger\n",
    "At first, Numba may seem kind of magic and you may be tempted to use it on all your different pieces of code.\n",
    "It may not however bring the speed-up you expected it would!\n",
    "For more details about when to use or not Numba JIT capabilities, please read [Numba's documentation](https://numba.readthedocs.io/en/stable/user/5minguide.html).\n",
    "```\n",
    "\n",
    "Despite what we've just said, our function `pairwise_interactions` is luckily an excellent candidate to illustrate the massive speed-up Numba can bring.\n",
    "After having imported `numba`, using its JIT capabilities is as simple as adding the decorator `@numba.jit()` to your function.\n",
    "This is illustrated below.\n",
    "\n",
    "**<center>Algorithm 1c: Numba + nested `for` loops</center>**"
   ]
  },
  {
   "cell_type": "code",
   "execution_count": 7,
   "id": "6cadcffa",
   "metadata": {},
   "outputs": [],
   "source": [
    "import numba\n",
    "\n",
    "@numba.jit(nopython=True)\n",
    "def pairwise_interactions(X):\n",
    "\n",
    "    # --> Number of particles.\n",
    "    n = len(X)\n",
    "    \n",
    "    # --> Initialize the force array.\n",
    "    F = np.zeros_like(X)\n",
    "    \n",
    "    # --> Loop through all the particles.\n",
    "    for i in range(n):\n",
    "        for j in range(i+1, n):\n",
    "                \n",
    "            # --> Compute the difference vector.\n",
    "            Δx = X[j] - X[i]\n",
    "            \n",
    "            # --> Add the ij contribution to the net force.\n",
    "            F[i] += Δx / np.linalg.norm(Δx)**3\n",
    "            \n",
    "            # --> Add the ji contribution to the net force.\n",
    "            F[j] -= F[i]\n",
    "            \n",
    "    return F"
   ]
  },
  {
   "cell_type": "markdown",
   "id": "a98ec2be",
   "metadata": {},
   "source": [
    "As you can see, nothing has changed in the implementation of `pairwise_interactions`.\n",
    "We simply added a decorator to it.\n",
    "Let's now see how it behaves using the same set of 500 particles."
   ]
  },
  {
   "cell_type": "code",
   "execution_count": 8,
   "id": "8ebc4334",
   "metadata": {},
   "outputs": [
    {
     "name": "stdout",
     "output_type": "stream",
     "text": [
      "34.1 ms ± 164 µs per loop (mean ± std. dev. of 7 runs, 1 loop each)\n"
     ]
    }
   ],
   "source": [
    "%%timeit\n",
    "pairwise_interactions(X)"
   ]
  },
  {
   "cell_type": "markdown",
   "id": "165ac265",
   "metadata": {},
   "source": [
    "Suddenly, the execution time went from close to 2 seconds down to less than 100 ms!\n",
    "This is a 20x to 25x speed-up and it only required adding a single line of code.\n",
    "As we'll see, we can do even better.\n",
    "Yet, this massive performance boost can sometime be sufficient to use this code in a production run.\n",
    "It certainly is the case for most demonstration codes intended for students."
   ]
  }
 ],
 "metadata": {
  "jupytext": {
   "formats": "md:myst",
   "text_representation": {
    "extension": ".md",
    "format_name": "myst",
    "format_version": 0.13,
    "jupytext_version": "1.10.3"
   }
  },
  "kernelspec": {
   "display_name": "Python 3 (ipykernel)",
   "language": "python",
   "name": "python3"
  },
  "language_info": {
   "codemirror_mode": {
    "name": "ipython",
    "version": 3
   },
   "file_extension": ".py",
   "mimetype": "text/x-python",
   "name": "python",
   "nbconvert_exporter": "python",
   "pygments_lexer": "ipython3",
   "version": "3.9.12"
  },
  "source_map": [
   15,
   18,
   29,
   52,
   62,
   69,
   72,
   91,
   114,
   118,
   121,
   159,
   185,
   191,
   194
  ]
 },
 "nbformat": 4,
 "nbformat_minor": 5
}