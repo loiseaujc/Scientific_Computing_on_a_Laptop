{
 "cells": [
  {
   "cell_type": "code",
   "execution_count": 1,
   "id": "4e972159",
   "metadata": {},
   "outputs": [],
   "source": [
    "import numpy as np\n",
    "import matplotlib.pyplot as plt\n",
    "import heapq\n",
    "from copy import deepcopy\n",
    "npr = np.random"
   ]
  },
  {
   "cell_type": "code",
   "execution_count": 2,
   "id": "2de8c99f",
   "metadata": {},
   "outputs": [],
   "source": [
    "class Particle():\n",
    "\n",
    "    def __init__(self, x, y, vx, vy, radius, mass, idx):\n",
    "        self.x, self.y = x, y\n",
    "        self.vx, self.vy = vx, vy\n",
    "        self.radius, self.mass = radius, mass\n",
    "        self.idx = idx\n",
    "        \n",
    "    def update_position(self, Δt):\n",
    "        self.x += Δt * self.vx\n",
    "        self.y += Δt * self.vy\n",
    "        return self"
   ]
  },
  {
   "cell_type": "code",
   "execution_count": 3,
   "id": "428850d2",
   "metadata": {},
   "outputs": [],
   "source": [
    "def step_forward(particles, Δt):\n",
    "    particles_new = [p.update_position(Δt) for p in particles]\n",
    "    return particles_new"
   ]
  },
  {
   "cell_type": "code",
   "execution_count": 116,
   "id": "b345dfb3",
   "metadata": {},
   "outputs": [],
   "source": [
    "def time_to_wall_collision(z, v, r):\n",
    "    if v > 0:\n",
    "        Δt = (1 - r - z) / v\n",
    "    elif v < 0:\n",
    "        Δt = (r - z) / v\n",
    "    else:\n",
    "        Δt = 1e8\n",
    "    return Δt"
   ]
  },
  {
   "cell_type": "code",
   "execution_count": 132,
   "id": "549f977d",
   "metadata": {},
   "outputs": [],
   "source": [
    "def time_to_particle_particle_collision(p, q):\n",
    "    Δr = np.array([p.x - q.x, p.y - q.y])\n",
    "    Δv = np.array([p.vx - q.vx, p.vy - q.vy])\n",
    "    σ = p.radius - q.radius\n",
    "    d = np.vdot(Δv, Δr)**2 - np.vdot(Δv, Δv) * (np.vdot(Δr, Δr) - σ**2)\n",
    "    \n",
    "    if np.vdot(Δv, Δr) >= 0:\n",
    "        Δt = np.inf\n",
    "    elif d < 0:\n",
    "        Δt = np.inf\n",
    "    else:\n",
    "        Δt = -(np.vdot(Δv, Δr) + np.sqrt(d)) / np.vdot(Δv, Δv)\n",
    "    return Δt"
   ]
  },
  {
   "cell_type": "code",
   "execution_count": 134,
   "id": "053baa19",
   "metadata": {},
   "outputs": [],
   "source": [
    "n = 2\n",
    "particles = [\n",
    "    Particle(0.5*npr.rand()+0.25, 0.5*npr.rand()+0.25,\n",
    "             npr.randn(), npr.randn(),\n",
    "             0.01, 1.0,\n",
    "             i) for i in range(n)]"
   ]
  },
  {
   "cell_type": "code",
   "execution_count": 135,
   "id": "0c77ee95",
   "metadata": {},
   "outputs": [
    {
     "data": {
      "image/png": "[encoded data removed]",
      "text/plain": [
       "<Figure size 432x288 with 1 Axes>"
      ]
     },
     "metadata": {
      "needs_background": "light"
     },
     "output_type": "display_data"
    }
   ],
   "source": [
    "fig, ax = plt.subplots(1, 1)\n",
    "\n",
    "for p in particles:\n",
    "    ax.plot(p.x, p.y, \"r.\")\n",
    "\n",
    "ax.set(xlim=(0, 1), ylim=(0, 1))\n",
    "ax.set_aspect(\"equal\")"
   ]
  },
  {
   "cell_type": "code",
   "execution_count": null,
   "id": "a486bfda",
   "metadata": {},
   "outputs": [],
   "source": []
  }
 ],
 "metadata": {
  "kernelspec": {
   "display_name": "Python 3 (ipykernel)",
   "language": "python",
   "name": "python3"
  },
  "language_info": {
   "codemirror_mode": {
    "name": "ipython",
    "version": 3
   },
   "file_extension": ".py",
   "mimetype": "text/x-python",
   "name": "python",
   "nbconvert_exporter": "python",
   "pygments_lexer": "ipython3",
   "version": "3.9.12"
  }
 },
 "nbformat": 4,
 "nbformat_minor": 5
}
